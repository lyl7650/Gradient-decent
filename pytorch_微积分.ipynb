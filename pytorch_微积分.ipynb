{
 "cells": [
  {
   "cell_type": "code",
   "execution_count": 83,
   "id": "d0184b6f",
   "metadata": {},
   "outputs": [],
   "source": [
    "import numpy as np\n",
    "import torch,math"
   ]
  },
  {
   "cell_type": "code",
   "execution_count": 2,
   "id": "873da82e",
   "metadata": {},
   "outputs": [],
   "source": [
    "def f(x):\n",
    "    return 3*x**2-4*x\n",
    "### f'x=6x-4"
   ]
  },
  {
   "cell_type": "code",
   "execution_count": 3,
   "id": "cd898460",
   "metadata": {},
   "outputs": [
    {
     "name": "stdout",
     "output_type": "stream",
     "text": [
      "h = 1.00000, numerical_lim=5.0\n",
      "h = 0.10000, numerical_lim=2.3000000000000043\n",
      "h = 0.01000, numerical_lim=2.029999999999976\n",
      "h = 0.00100, numerical_lim=2.0029999999993104\n",
      "h = 0.00010, numerical_lim=2.000299999997956\n"
     ]
    }
   ],
   "source": [
    "def numerical_lim(f,x,h):\n",
    "    return (f(x+h)-f(x))/h\n",
    "h=1\n",
    "for i in range(5):\n",
    "    print(f'h = {h:.5f}, numerical_lim={numerical_lim(f,1,h)}')\n",
    "    h*=0.1"
   ]
  },
  {
   "cell_type": "markdown",
   "id": "70229faf",
   "metadata": {},
   "source": [
    "### 自动微分"
   ]
  },
  {
   "cell_type": "code",
   "execution_count": 52,
   "id": "31c02752",
   "metadata": {},
   "outputs": [],
   "source": [
    "x = torch.arange(4.0,requires_grad=True)##x=0,1,2,3\n",
    "y = 2*torch.dot(x,x)##y=2x^2"
   ]
  },
  {
   "cell_type": "code",
   "execution_count": 53,
   "id": "83f46e51",
   "metadata": {},
   "outputs": [],
   "source": [
    "x.grad"
   ]
  },
  {
   "cell_type": "code",
   "execution_count": 54,
   "id": "96b8caf2",
   "metadata": {},
   "outputs": [
    {
     "data": {
      "text/plain": [
       "tensor(28., grad_fn=<MulBackward0>)"
      ]
     },
     "execution_count": 54,
     "metadata": {},
     "output_type": "execute_result"
    }
   ],
   "source": [
    "y##2*1+2*4+2*9=28"
   ]
  },
  {
   "cell_type": "markdown",
   "id": "0b421e86",
   "metadata": {},
   "source": []
  },
  {
   "cell_type": "code",
   "execution_count": 55,
   "id": "09760431",
   "metadata": {},
   "outputs": [],
   "source": [
    "y.backward()###反向传播，即求y的偏导数，y'=4x"
   ]
  },
  {
   "cell_type": "code",
   "execution_count": 56,
   "id": "9eae61dc",
   "metadata": {},
   "outputs": [
    {
     "data": {
      "text/plain": [
       "tensor([ 0.,  4.,  8., 12.])"
      ]
     },
     "execution_count": 56,
     "metadata": {},
     "output_type": "execute_result"
    }
   ],
   "source": [
    "x.grad  ##x=0,1,2,3"
   ]
  },
  {
   "cell_type": "code",
   "execution_count": 58,
   "id": "1e60eaf0",
   "metadata": {},
   "outputs": [
    {
     "name": "stdout",
     "output_type": "stream",
     "text": [
      "tensor([0., 1., 2., 3.], requires_grad=True) tensor([0., 0., 0., 0.])\n"
     ]
    }
   ],
   "source": [
    "x.grad.zero_()\n",
    "print(x ,x.grad)"
   ]
  },
  {
   "cell_type": "code",
   "execution_count": 59,
   "id": "b863abb7",
   "metadata": {},
   "outputs": [
    {
     "data": {
      "text/plain": [
       "tensor([1., 1., 1., 1.])"
      ]
     },
     "execution_count": 59,
     "metadata": {},
     "output_type": "execute_result"
    }
   ],
   "source": [
    "x.grad.zero_()\n",
    "y = x.sum()\n",
    "y.backward()\n",
    "x.grad"
   ]
  },
  {
   "cell_type": "code",
   "execution_count": 60,
   "id": "ea9f814e",
   "metadata": {},
   "outputs": [
    {
     "data": {
      "text/plain": [
       "tensor([0., 2., 4., 6.])"
      ]
     },
     "execution_count": 60,
     "metadata": {},
     "output_type": "execute_result"
    }
   ],
   "source": [
    "x.grad.zero_()\n",
    "y=x*x ##y'=2x\n",
    "y.sum().backward()\n",
    "x.grad"
   ]
  },
  {
   "cell_type": "code",
   "execution_count": 63,
   "id": "c14587a7",
   "metadata": {},
   "outputs": [
    {
     "name": "stdout",
     "output_type": "stream",
     "text": [
      "tensor([0., 1., 2., 3.], requires_grad=True)\n"
     ]
    }
   ],
   "source": [
    "x.grad.zero_()\n",
    "y= x*x\n",
    "u=y.detach()#不对y求导，即视为常数C\n",
    "z=u*x\n",
    "print(x)"
   ]
  },
  {
   "cell_type": "code",
   "execution_count": 64,
   "id": "6e5c1ec9",
   "metadata": {},
   "outputs": [
    {
     "data": {
      "text/plain": [
       "tensor([0., 1., 4., 9.])"
      ]
     },
     "execution_count": 64,
     "metadata": {},
     "output_type": "execute_result"
    }
   ],
   "source": [
    "z.sum().backward()#z'=x*x\n",
    "x.grad"
   ]
  },
  {
   "cell_type": "code",
   "execution_count": 65,
   "id": "942532e8",
   "metadata": {},
   "outputs": [
    {
     "name": "stdout",
     "output_type": "stream",
     "text": [
      "tensor([True, True, True, True]) tensor([0., 1., 4., 9.], grad_fn=<MulBackward0>)\n"
     ]
    }
   ],
   "source": [
    "print(x.grad == y, y)"
   ]
  },
  {
   "cell_type": "code",
   "execution_count": 50,
   "id": "0f335df4",
   "metadata": {},
   "outputs": [
    {
     "data": {
      "text/plain": [
       "tensor([ True, False,  True, False])"
      ]
     },
     "execution_count": 50,
     "metadata": {},
     "output_type": "execute_result"
    }
   ],
   "source": [
    "x.grad == 2*x"
   ]
  },
  {
   "cell_type": "code",
   "execution_count": 66,
   "id": "a09b8c94",
   "metadata": {},
   "outputs": [
    {
     "name": "stdout",
     "output_type": "stream",
     "text": [
      "tensor([0., 0., 0., 0.])\n"
     ]
    },
    {
     "data": {
      "text/plain": [
       "tensor([True, True, True, True])"
      ]
     },
     "execution_count": 66,
     "metadata": {},
     "output_type": "execute_result"
    }
   ],
   "source": [
    "x.grad.zero_()\n",
    "print(x.grad)\n",
    "y.sum().backward()\n",
    "x.grad == 2*x"
   ]
  },
  {
   "cell_type": "code",
   "execution_count": 79,
   "id": "4107b05a",
   "metadata": {},
   "outputs": [
    {
     "data": {
      "text/plain": [
       "tensor([0., 0., 0., 0.])"
      ]
     },
     "execution_count": 79,
     "metadata": {},
     "output_type": "execute_result"
    }
   ],
   "source": [
    "x.grad.zero_()"
   ]
  },
  {
   "cell_type": "code",
   "execution_count": 81,
   "id": "bbc0ec41",
   "metadata": {},
   "outputs": [
    {
     "name": "stdout",
     "output_type": "stream",
     "text": [
      "tensor([0., 1., 2., 3.], requires_grad=True) tensor([0.0000, 0.8415, 0.9093, 0.1411], grad_fn=<SinBackward>) tensor([ 1.0000,  0.5403, -0.4161, -0.9900], grad_fn=<CosBackward>)\n"
     ]
    },
    {
     "data": {
      "text/plain": [
       "tensor([ 2.0000,  1.0806, -0.8323, -1.9800])"
      ]
     },
     "execution_count": 81,
     "metadata": {},
     "output_type": "execute_result"
    }
   ],
   "source": [
    "y=torch.sin(x)\n",
    "z=torch.cos(x)\n",
    "print(x,y,z)\n",
    "y.sum().backward()\n",
    "x.grad"
   ]
  },
  {
   "cell_type": "code",
   "execution_count": 82,
   "id": "2c65b873",
   "metadata": {},
   "outputs": [
    {
     "data": {
      "text/plain": [
       "[<matplotlib.lines.Line2D at 0x149a1d550>]"
      ]
     },
     "execution_count": 82,
     "metadata": {},
     "output_type": "execute_result"
    },
    {
     "data": {
      "image/png": "[encoded data removed]",
      "text/plain": [
       "<Figure size 432x288 with 1 Axes>"
      ]
     },
     "metadata": {
      "needs_background": "light"
     },
     "output_type": "display_data"
    }
   ],
   "source": [
    "import torch\n",
    "import matplotlib.pyplot as plt\n",
    "%matplotlib inline\n",
    "x = torch.arange(0.0,10.0,0.1)\n",
    "x.requires_grad_(True)\n",
    "x1 = x.detach()\n",
    "y1 = torch.sin(x1)\n",
    "y2 = torch.sin(x)\n",
    "y2.sum().backward()\n",
    "plt.plot(x1,y1)\n",
    "plt.plot(x1,x.grad)"
   ]
  },
  {
   "cell_type": "code",
   "execution_count": null,
   "id": "dfdff90e",
   "metadata": {},
   "outputs": [],
   "source": []
  }
 ],
 "metadata": {
  "kernelspec": {
   "display_name": "Python 3",
   "language": "python",
   "name": "python3"
  },
  "language_info": {
   "codemirror_mode": {
    "name": "ipython",
    "version": 3
   },
   "file_extension": ".py",
   "mimetype": "text/x-python",
   "name": "python",
   "nbconvert_exporter": "python",
   "pygments_lexer": "ipython3",
   "version": "3.8.8"
  }
 },
 "nbformat": 4,
 "nbformat_minor": 5
}
